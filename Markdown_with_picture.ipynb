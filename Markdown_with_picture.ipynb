{
 "cells": [
  {
   "cell_type": "markdown",
   "id": "364fb2c4",
   "metadata": {},
   "source": [
    "Markdown ячейка с сылкой изображения или локального расположения. Достаточно вставить в src=\"\". Можно сменить распололожение и размер фото. (Этот ноут нужно скачать, что бы увидеть код для Markdown)\n",
    "\n",
    "```python\n",
    "# тест\n",
    "i = np.random.randint(0,len(df))\n",
    "try:\n",
    "    import matplotlib.pyplot as plt\n",
    "    plt.imshow(data.loc[i,img])\n",
    "    plt.show()\n",
    "except:\n",
    "    print('Ошибка. Папка', df.loc[i,folder])\n",
    "```\n",
    "<div>\n",
    "    <img src=\"https://www.seekpng.com/png/detail/410-4104604_here-is-how-to-add-a-shortcut-of.png\" alt=\"альтернативный текст\" title=\"заголовок изображения\" width=\"450\" style=\"float: left; margin-right: 20px\">\n",
    "</div>\n",
    "\n",
    "<style>\n",
    "    img {\n",
    "        border: 1px solid black;\n",
    "    }\n",
    "</style>"
   ]
  },
  {
   "cell_type": "markdown",
   "id": "1b613ba5",
   "metadata": {},
   "source": [
    "Markdown ячейка с сылкой изображения или локального расположения. Достаточно вставить в src=\"\". Можно сменить распололожение и размер фото. (Этот ноут нужно скачать, что бы увидеть код для Markdown)\n",
    "\n",
    "```python\n",
    "# тест\n",
    "i = np.random.randint(0,len(df))\n",
    "try:\n",
    "    import matplotlib.pyplot as plt\n",
    "    plt.imshow(data.loc[i,img])\n",
    "    plt.show()\n",
    "except:\n",
    "    print('Ошибка. Папка', df.loc[i,folder])\n",
    "```\n",
    "<div>\n",
    "    <img src=\"https://www.seekpng.com/png/detail/410-4104604_here-is-how-to-add-a-shortcut-of.png\" alt=\"альтернативный текст\" title=\"заголовок изображения\" width=\"450\" style=\"float: left; margin-right: 20px\">\n",
    "</div>\n",
    "\n",
    "<style>\n",
    "    img {\n",
    "        border: 1px solid black;\n",
    "    }\n",
    "</style>"
   ]
  }
 ],
 "metadata": {
  "kernelspec": {
   "display_name": "Python 3 (ipykernel)",
   "language": "python",
   "name": "python3"
  },
  "language_info": {
   "codemirror_mode": {
    "name": "ipython",
    "version": 3
   },
   "file_extension": ".py",
   "mimetype": "text/x-python",
   "name": "python",
   "nbconvert_exporter": "python",
   "pygments_lexer": "ipython3",
   "version": "3.10.9"
  }
 },
 "nbformat": 4,
 "nbformat_minor": 5
}
