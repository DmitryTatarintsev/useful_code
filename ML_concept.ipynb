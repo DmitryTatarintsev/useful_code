{
 "cells": [
  {
   "cell_type": "code",
   "execution_count": null,
   "id": "19ced83d",
   "metadata": {},
   "outputs": [],
   "source": [
    "'''Общая концепция машинного обучения.'''\n",
    "# Предобработка признаков\n",
    "## Для текстовых признаков\n",
    "stop_words = list(stopwords.words('russian')) \n",
    "text = [...] # список признаков\n",
    "## Числовые признаки\n",
    "numerical = [...] # список признаков\n",
    "num_pipe = Pipeline([('scaler', StandardScaler())])\n",
    "## Категориальные признаки\n",
    "categorical = [...] # список признаков\n",
    "cat_pipe = Pipeline([('ohe', OneHotEncoder())])\n",
    "## Итоговый пайплайн преобработки\n",
    "preprocessor = ColumnTransformer(\n",
    "    transformers = [(x, TfidfVectorizer(stop_words=stop_words), x) for x in text] + \\\n",
    "                   [('num', num_pipe, numerical), ('cat', cat_pipe, categorical)], \n",
    "    remainder='passthrough')\n",
    "\n",
    "'''В коде выше мы используем оператор + для соединения двух частей списка \n",
    "[(x, TfidfVectorizer(stop_words=stop_words), x) for x in text] и \n",
    "[('num', num_pipe, numerical), ('cat', cat_pipe, categorical)] в один общий список, \n",
    "который затем используется в качестве аргумента для параметра transformers в ColumnTransformer.'''\n",
    "\n",
    "# GridSearchCV подбор параметров\n",
    "clf = Pipeline([('preprocessor', preprocessor),\n",
    "                ('svm', SVMSMOTE(random_state=42)),\n",
    "                ('model', CatBoostClassifier(class_weights=dict(zip(np.unique(target_train), \n",
    "                                                                    compute_class_weight(class_weight='balanced',\n",
    "                                                                                         classes=np.unique(target_train), \n",
    "                                                                                         y=target_train))), \n",
    "                                             silent=True, random_seed=42))])\n",
    "params = {'model__depth':[5,8,10], 'model__iterations': [100, 150, 200]} \n",
    "gs = GridSearchCV(clf, params, scoring='f1', n_jobs=-1, cv=skf.split(features_train, target_train))\n",
    "print(gd.best_params_)\n",
    "\n",
    "# Обучение модели\n",
    "model = Pipeline([('sampling', SVMSMOTE(random_state=42)),\n",
    "                  ('model', CatBoostClassifier(depth=10, iterations=200))])\n",
    "\n",
    "features_train = preprocessor.transform(features_train) # Предобработка признаков\n",
    "model.fit(features_train, target_train) # Обучение модели\n",
    "\n",
    "# сохранение модели\n",
    "dump(model, 'model.joblib')\n"
   ]
  }
 ],
 "metadata": {
  "kernelspec": {
   "display_name": "Python 3 (ipykernel)",
   "language": "python",
   "name": "python3"
  },
  "language_info": {
   "codemirror_mode": {
    "name": "ipython",
    "version": 3
   },
   "file_extension": ".py",
   "mimetype": "text/x-python",
   "name": "python",
   "nbconvert_exporter": "python",
   "pygments_lexer": "ipython3",
   "version": "3.11.5"
  }
 },
 "nbformat": 4,
 "nbformat_minor": 5
}
